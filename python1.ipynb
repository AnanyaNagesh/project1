{
 "cells": [
  {
   "cell_type": "code",
   "execution_count": 1,
   "id": "bf469914-d940-4f3f-8755-723f0d50f96b",
   "metadata": {},
   "outputs": [
    {
     "name": "stdout",
     "output_type": "stream",
     "text": [
      "hello world\n"
     ]
    }
   ],
   "source": [
    "print(\"hello world\")"
   ]
  },
  {
   "cell_type": "code",
   "execution_count": 3,
   "id": "c9a67cf5-262e-404c-b41e-97ffe520be93",
   "metadata": {},
   "outputs": [
    {
     "name": "stdout",
     "output_type": "stream",
     "text": [
      "Requirement already satisfied: numpy in c:\\users\\sanjay\\appdata\\local\\programs\\python\\python311\\lib\\site-packages (2.1.1)\n",
      "Note: you may need to restart the kernel to use updated packages.\n"
     ]
    },
    {
     "name": "stderr",
     "output_type": "stream",
     "text": [
      "\n",
      "[notice] A new release of pip is available: 23.1.2 -> 24.2\n",
      "[notice] To update, run: python.exe -m pip install --upgrade pip\n"
     ]
    }
   ],
   "source": [
    "pip install numpy\n"
   ]
  },
  {
   "cell_type": "code",
   "execution_count": 8,
   "id": "a506bcfa-88db-458c-9ed1-82b22d07b588",
   "metadata": {},
   "outputs": [
    {
     "ename": "NameError",
     "evalue": "name 's' is not defined",
     "output_type": "error",
     "traceback": [
      "\u001b[1;31m---------------------------------------------------------------------------\u001b[0m",
      "\u001b[1;31mNameError\u001b[0m                                 Traceback (most recent call last)",
      "Cell \u001b[1;32mIn[8], line 4\u001b[0m\n\u001b[0;32m      2\u001b[0m  \u001b[38;5;28;01mreturn\u001b[39;00m s[::\u001b[38;5;241m-\u001b[39m\u001b[38;5;241m1\u001b[39m]\n\u001b[0;32m      3\u001b[0m original_string \u001b[38;5;241m=\u001b[39m \u001b[38;5;124m\"\u001b[39m\u001b[38;5;124mhello world\u001b[39m\u001b[38;5;124m\"\u001b[39m\n\u001b[1;32m----> 4\u001b[0m reversed_string\u001b[38;5;241m=\u001b[39m \u001b[43ms\u001b[49m\n\u001b[0;32m      6\u001b[0m reverse_string(original_string)\n\u001b[0;32m      7\u001b[0m \u001b[38;5;28mprint\u001b[39m(reversed_string)\n",
      "\u001b[1;31mNameError\u001b[0m: name 's' is not defined"
     ]
    }
   ],
   "source": [
    "def reverse_string(s):\n",
    " return s[::-1]\n",
    "original_string = \"hello world\"\n",
    "reversed_string= s\n",
    "\n",
    "reverse_string(original_string)\n",
    "print(reversed_string)"
   ]
  },
  {
   "cell_type": "code",
   "execution_count": 9,
   "id": "468090ce-ec86-4cc1-a1d7-79304f9a1fa0",
   "metadata": {},
   "outputs": [
    {
     "name": "stdout",
     "output_type": "stream",
     "text": [
      "dlrow olleh\n"
     ]
    }
   ],
   "source": [
    "a_string='hello world'\n",
    "reversed_string=a_string[::-1]\n",
    "print(reversed_string)"
   ]
  },
  {
   "cell_type": "code",
   "execution_count": 11,
   "id": "3e702781-891e-40bf-8a7b-a71ab1af4f15",
   "metadata": {},
   "outputs": [
    {
     "name": "stdout",
     "output_type": "stream",
     "text": [
      "['hello', 'world']\n"
     ]
    }
   ],
   "source": [
    "text='hello world'\n",
    "cut=text.split()\n",
    "print(cut)"
   ]
  },
  {
   "cell_type": "code",
   "execution_count": 12,
   "id": "5fd2f1b5-6057-4304-bd94-c845dd13aa5b",
   "metadata": {},
   "outputs": [
    {
     "name": "stdout",
     "output_type": "stream",
     "text": [
      "dlrow olleh\n",
      "['hello', 'world']\n"
     ]
    }
   ],
   "source": [
    "text='hello world'\n",
    "damn=text[::-1]\n",
    "cut=text.split()\n",
    "print(damn)\n",
    "print(cut)"
   ]
  },
  {
   "cell_type": "code",
   "execution_count": 15,
   "id": "3f477a93-2092-4ec2-baa6-0bd19d5a6027",
   "metadata": {},
   "outputs": [
    {
     "name": "stdin",
     "output_type": "stream",
     "text": [
      "enter a string hello world\n"
     ]
    },
    {
     "name": "stdout",
     "output_type": "stream",
     "text": [
      "dlrow olleh\n",
      "['hello', 'world']\n"
     ]
    }
   ],
   "source": [
    "text=input('enter a string')\n",
    "damn=text[::-1]\n",
    "cut=text.split()\n",
    "print(damn)\n",
    "print(cut)"
   ]
  },
  {
   "cell_type": "code",
   "execution_count": null,
   "id": "97b30bf7-97bd-4e0b-b7ca-142e5a277390",
   "metadata": {},
   "outputs": [],
   "source": []
  }
 ],
 "metadata": {
  "kernelspec": {
   "display_name": "Python 3 (ipykernel)",
   "language": "python",
   "name": "python3"
  },
  "language_info": {
   "codemirror_mode": {
    "name": "ipython",
    "version": 3
   },
   "file_extension": ".py",
   "mimetype": "text/x-python",
   "name": "python",
   "nbconvert_exporter": "python",
   "pygments_lexer": "ipython3",
   "version": "3.11.4"
  }
 },
 "nbformat": 4,
 "nbformat_minor": 5
}
